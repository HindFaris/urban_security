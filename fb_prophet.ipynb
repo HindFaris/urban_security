{
 "cells": [
  {
   "cell_type": "code",
   "outputs": [],
   "source": [
    "# Prise en main de FB Prophet sur des données Bitcoins"
   ],
   "metadata": {
    "collapsed": false,
    "ExecuteTime": {
     "end_time": "2024-02-12T14:40:29.014276300Z",
     "start_time": "2024-02-12T14:40:28.994642800Z"
    }
   },
   "id": "42000885beeee60a",
   "execution_count": 1
  },
  {
   "cell_type": "code",
   "outputs": [],
   "source": [
    "from prophet import Prophet"
   ],
   "metadata": {
    "collapsed": false,
    "ExecuteTime": {
     "end_time": "2024-02-12T15:36:07.064463800Z",
     "start_time": "2024-02-12T15:36:06.546512600Z"
    }
   },
   "id": "63b1e2e664985078",
   "execution_count": 4
  },
  {
   "cell_type": "code",
   "outputs": [],
   "source": [
    "import warnings\n",
    "import pandas as pd\n",
    " \n",
    " \n",
    "import matplotlib.pyplot as plt\n",
    "import seaborn as sns\n",
    "sns.set()\n",
    "sns.set(rc={'figure.figsize':(14.7,10.27)})\n",
    " \n",
    "from plotly import tools\n",
    "import plotly.graph_objs as go\n",
    "import gc\n",
    " \n",
    "from datetime import datetime\n",
    " \n",
    "# prophet model \n",
    "from prophet import Prophet\n",
    "# prophet preformance\n",
    "from prophet.diagnostics import cross_validation\n",
    "from prophet.diagnostics import performance_metrics\n",
    "from prophet.plot import plot_cross_validation_metric\n",
    "from IPython.display import set_matplotlib_formats"
   ],
   "metadata": {
    "collapsed": false,
    "ExecuteTime": {
     "end_time": "2024-02-12T15:37:40.448773400Z",
     "start_time": "2024-02-12T15:37:40.425834700Z"
    }
   },
   "id": "a5f60d282a8d1664",
   "execution_count": 8
  },
  {
   "cell_type": "code",
   "outputs": [],
   "source": [
    "model = Prophet()"
   ],
   "metadata": {
    "collapsed": false,
    "ExecuteTime": {
     "end_time": "2024-02-12T15:38:33.401579500Z",
     "start_time": "2024-02-12T15:38:29.952800600Z"
    }
   },
   "id": "98dd253faa3c7f5c",
   "execution_count": 9
  },
  {
   "cell_type": "code",
   "outputs": [],
   "source": [],
   "metadata": {
    "collapsed": false
   },
   "id": "f3bed9ef37bfad32"
  },
  {
   "cell_type": "code",
   "outputs": [],
   "source": [],
   "metadata": {
    "collapsed": false
   },
   "id": "655f505988fa06e"
  }
 ],
 "metadata": {
  "kernelspec": {
   "display_name": "Python 3",
   "language": "python",
   "name": "python3"
  },
  "language_info": {
   "codemirror_mode": {
    "name": "ipython",
    "version": 2
   },
   "file_extension": ".py",
   "mimetype": "text/x-python",
   "name": "python",
   "nbconvert_exporter": "python",
   "pygments_lexer": "ipython2",
   "version": "2.7.6"
  }
 },
 "nbformat": 4,
 "nbformat_minor": 5
}
