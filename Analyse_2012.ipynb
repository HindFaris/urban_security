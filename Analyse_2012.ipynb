{
 "cells": [
  {
   "cell_type": "markdown",
   "id": "993c4f46-e33c-4b95-b9d7-2cd01f0d9643",
   "metadata": {},
   "source": [
    "Analyse socio-économique et délinquance, 2012-2016"
   ]
  },
  {
   "cell_type": "code",
   "execution_count": 1,
   "id": "2e0f3f14-e90a-439c-98c4-a5cfa029f37b",
   "metadata": {
    "ExecuteTime": {
     "end_time": "2024-02-19T14:58:45.702296800Z",
     "start_time": "2024-02-19T14:58:45.564158600Z"
    }
   },
   "outputs": [
    {
     "name": "stderr",
     "output_type": "stream",
     "text": [
      "C:\\Users\\thiba\\AppData\\Local\\Temp\\ipykernel_3944\\2927116007.py:3: DtypeWarning: Columns (1) have mixed types. Specify dtype option on import or set low_memory=False.\n",
      "  data = pd.read_csv(\"full_dataset_normalized_2.csv\", encoding='utf-8', sep=',')\n"
     ]
    }
   ],
   "source": [
    "import pandas as pd\n",
    "#importation du dataset\n",
    "data = pd.read_csv(\"full_dataset_normalized_2.csv\", encoding='utf-8', sep=',')"
   ]
  },
  {
   "cell_type": "code",
   "execution_count": 4,
   "id": "189f1e14-4c11-449f-aedf-bedf1fc70907",
   "metadata": {
    "ExecuteTime": {
     "end_time": "2024-02-19T14:57:43.974240200Z",
     "start_time": "2024-02-19T14:57:43.917113Z"
    }
   },
   "outputs": [],
   "source": [
    "# On se concentre sur l'année 2012, et on exclue les valeurs France_Métro\n",
    "\n",
    "data_2012 = data[data['annee']==2012]\n",
    "\n",
    "data_2012 = data_2012[~(data_2012['code_dep'] == 'France_Métro')]\n",
    "\n",
    "# Problème avec l'espace marquant le millier pour la colonne effectifs de police, mal converti par pandas d'où la nécessité de cet ajustement :\n",
    "data_2012['effectif_total_police_national'] = data_2012['effectif_total_police_national'].replace('\\xa0', '').astype(int)\n",
    "\n",
    "#data_2012['effectif_total_police_national'].iloc[60]\n",
    "\n",
    "# code_dep et Date sont en Object, on les convertit pour bien avoir le même type pour chaque colonne : str pour code_dep, date type pour Date\n",
    "\n",
    "data_2012['code_dep'] = data_2012['code_dep'].astype(str)\n",
    "data_2012['Date'] = pd.to_datetime(data_2012['Date'])"
   ]
  },
  {
   "cell_type": "code",
   "execution_count": 34,
   "id": "a3bc7e68-a79e-495a-a26e-d2223a43fe71",
   "metadata": {},
   "outputs": [
    {
     "data": {
      "text/plain": [
       "Index(['Date', 'code_dep', 'Homicides', 'Vols',\n",
       "       'Cambriolages à domicile ou violaiton de domicile',\n",
       "       'Crimes ou délits sexuelles', 'Infractions liées aux stupéfiants',\n",
       "       'Dégradations ou destructions de biens volontaires', 'Violences',\n",
       "       'Falsifications et contrefaçons', 'Délits Économiques et Financiers',\n",
       "       'Irégularités de Main-d'oeuvre', 'annee', 'Population', 'Chomage',\n",
       "       'Taux de pauvreté-moins de 30', 'Taux de pauvreté-30 à 39 ans',\n",
       "       'Taux de pauvreté-40 à 49 ans', 'Taux de pauvreté-50 à 59 ans',\n",
       "       'Taux de pauvreté-60 à 74 ans', 'Taux de pauvreté-75 ans ou plus',\n",
       "       'Median_salaire', 'Taux de pauvreté-Ensemble', 'Bac_g_réussite_%',\n",
       "       'Bac_t_réussite_%', 'Bac_p_réussite_%', 'Bac_g_%', 'Bac_t_%', 'Bac_p_%',\n",
       "       'non_peu_diplômés_non_scolarisée_<15ans', 'Superficie\\r\\n(km2)',\n",
       "       'effectif_total_police_national', 'Homicides_per_population',\n",
       "       'Vols_per_population',\n",
       "       'Cambriolages à domicile ou violaiton de domicile_per_population',\n",
       "       'Crimes ou délits sexuelles_per_population',\n",
       "       'Infractions liées aux stupéfiants_per_population',\n",
       "       'Dégradations ou destructions de biens volontaires_per_population',\n",
       "       'Violences_per_population',\n",
       "       'Falsifications et contrefaçons_per_population',\n",
       "       'Délits Économiques et Financiers_per_population',\n",
       "       'Irégularités de Main-d'oeuvre_per_population',\n",
       "       'effectif_total_police_national_per_population',\n",
       "       'Chomage_per_population', 'density'],\n",
       "      dtype='object')"
      ]
     },
     "execution_count": 34,
     "metadata": {},
     "output_type": "execute_result"
    }
   ],
   "source": [
    "data_2012.columns"
   ]
  },
  {
   "cell_type": "code",
   "execution_count": 6,
   "id": "d35b9b98-1e02-4d40-9cf9-d300cca5ad4c",
   "metadata": {},
   "outputs": [],
   "source": [
    "df1 = data_2012[['Date', 'code_dep', 'Vols_per_population', 'effectif_total_police_national_per_population']].copy()"
   ]
  },
  {
   "cell_type": "code",
   "execution_count": 29,
   "id": "af44038d-7a9d-4a64-946d-e3700f149017",
   "metadata": {},
   "outputs": [],
   "source": [
    "#df1.head()"
   ]
  },
  {
   "cell_type": "code",
   "execution_count": 18,
   "id": "16767462-dab2-48d1-8e7b-f71251dd4056",
   "metadata": {},
   "outputs": [],
   "source": [
    "# Grouper par 'code_dep', puis calculer la moyenne annuelle pour les deux colonnes \"vols_per_population\" et effectifs policiers par population\n",
    "df2 = df1.groupby('code_dep').mean().copy()\n",
    "\n",
    "# Réinitialiser l'index si vous voulez que 'code_dep' redevienne une colonne\n",
    "df2 = df2.reset_index()\n",
    "\n",
    "df2.drop('Date', axis=1, inplace=True)"
   ]
  },
  {
   "cell_type": "code",
   "execution_count": 30,
   "id": "baa5f52f-6a4b-4124-8350-b983701454df",
   "metadata": {
    "scrolled": true
   },
   "outputs": [],
   "source": [
    "#test\n",
    "#df2.loc[df2['code_dep'] == '17'] # nota : bien penser à mettre les guillemets car de type str"
   ]
  },
  {
   "cell_type": "code",
   "execution_count": 27,
   "id": "f12d41a3-6dea-4727-b895-ec795bbfdc4c",
   "metadata": {},
   "outputs": [],
   "source": [
    "correlation = df2['Vols_per_population'].corr(df2['effectif_total_police_national_per_population'])"
   ]
  },
  {
   "cell_type": "code",
   "execution_count": 28,
   "id": "0a075f81-828c-4823-97f3-10390c017601",
   "metadata": {},
   "outputs": [
    {
     "data": {
      "text/plain": [
       "0.7373749231576757"
      ]
     },
     "execution_count": 28,
     "metadata": {},
     "output_type": "execute_result"
    }
   ],
   "source": [
    "correlation"
   ]
  },
  {
   "cell_type": "code",
   "execution_count": 36,
   "id": "2fc8e0e6-af89-40c1-a823-79682a0fb38d",
   "metadata": {},
   "outputs": [
    {
     "name": "stdout",
     "output_type": "stream",
     "text": [
      "                                                   Corrélation avec effectif_total_police_national_per_population\n",
      "Homicides_per_population                                                                     0.343389            \n",
      "Vols_per_population                                                                          0.737375            \n",
      "Cambriolages à domicile ou violaiton de domicil...                                           0.351741            \n",
      "Crimes ou délits sexuelles_per_population                                                    0.598007            \n",
      "Infractions liées aux stupéfiants_per_population                                             0.588526            \n",
      "Dégradations ou destructions de biens volontair...                                           0.534849            \n",
      "Violences_per_population                                                                     0.507529            \n",
      "Falsifications et contrefaçons_per_population                                                0.626186            \n",
      "Délits Économiques et Financiers_per_population                                              0.477564            \n",
      "Irégularités de Main-d'oeuvre_per_population                                                 0.323498            \n",
      "Chomage_per_population                                                                       0.399413            \n"
     ]
    }
   ],
   "source": [
    "categories = [ 'Homicides_per_population',\n",
    "       'Vols_per_population',\n",
    "       'Cambriolages à domicile ou violaiton de domicile_per_population',\n",
    "       'Crimes ou délits sexuelles_per_population',\n",
    "       'Infractions liées aux stupéfiants_per_population',\n",
    "       'Dégradations ou destructions de biens volontaires_per_population',\n",
    "       'Violences_per_population',\n",
    "       'Falsifications et contrefaçons_per_population',\n",
    "       'Délits Économiques et Financiers_per_population',\n",
    "       \"Irégularités de Main-d'oeuvre_per_population\",\n",
    "       'Chomage_per_population',\n",
    "]\n",
    "\n",
    "# Préparation du DataFrame pour le calcul de corrélation\n",
    "df_correlation = pd.DataFrame(index=categories, columns=['Corrélation avec effectif_total_police_national_per_population'])\n",
    "\n",
    "for categorie in categories:\n",
    "    # Calculer la corrélation pour chaque catégorie\n",
    "    df = data_2012[['Date', 'code_dep', categorie, 'effectif_total_police_national_per_population']].copy()\n",
    "    df = df.groupby('code_dep').mean().copy()\n",
    "    # Réinitialiser l'index si vous voulez que 'code_dep' redevienne une colonne\n",
    "    df = df.reset_index() \n",
    "    df.drop('Date', axis=1, inplace=True)\n",
    "    \n",
    "    correlation = df[categorie].corr(df['effectif_total_police_national_per_population'])\n",
    "    df_correlation.loc[categorie, 'Corrélation avec effectif_total_police_national_per_population'] = correlation\n",
    "\n",
    "# Afficher les résultats\n",
    "print(df_correlation)"
   ]
  },
  {
   "cell_type": "code",
   "execution_count": null,
   "id": "6540fd27-51ef-4410-93d8-2fab9ad78280",
   "metadata": {},
   "outputs": [],
   "source": [
    "import matplotlib.pyplot as plt\n",
    "import seaborn as sns\n",
    "\n",
    "\n",
    "#Calcul du taux de corrélation entre ces deux taux \n",
    ".corr(method=\"pearson\")\n",
    "\n",
    "# Visualize the correlation matrix\n",
    "plt.figure(figsize=(12, 8))\n",
    "sns.heatmap(, annot=True, cmap='coolwarm')\n",
    "plt.title('Matrice de corrélation entre dégradations et effectifs de police ')\n",
    "plt.show()"
   ]
  },
  {
   "cell_type": "code",
   "execution_count": null,
   "id": "d29ad504-403d-40f6-8dfb-60d82af10f4e",
   "metadata": {},
   "outputs": [],
   "source": []
  }
 ],
 "metadata": {
  "kernelspec": {
   "display_name": "Python 3 (ipykernel)",
   "language": "python",
   "name": "python3"
  },
  "language_info": {
   "codemirror_mode": {
    "name": "ipython",
    "version": 3
   },
   "file_extension": ".py",
   "mimetype": "text/x-python",
   "name": "python",
   "nbconvert_exporter": "python",
   "pygments_lexer": "ipython3",
   "version": "3.11.7"
  }
 },
 "nbformat": 4,
 "nbformat_minor": 5
}
