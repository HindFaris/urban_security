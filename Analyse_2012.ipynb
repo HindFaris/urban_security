{
 "cells": [
  {
   "cell_type": "markdown",
   "id": "993c4f46-e33c-4b95-b9d7-2cd01f0d9643",
   "metadata": {},
   "source": [
    "Analyse socio-économique et délinquance, 2012-2016"
   ]
  },
  {
   "cell_type": "code",
   "execution_count": 2,
   "id": "2e0f3f14-e90a-439c-98c4-a5cfa029f37b",
   "metadata": {
    "ExecuteTime": {
     "end_time": "2024-02-20T10:55:14.531614400Z",
     "start_time": "2024-02-20T10:55:14.221224500Z"
    }
   },
   "outputs": [
    {
     "name": "stderr",
     "output_type": "stream",
     "text": [
      "C:\\Users\\thiba\\AppData\\Local\\Temp\\ipykernel_33084\\2112852922.py:3: DtypeWarning: Columns (1) have mixed types. Specify dtype option on import or set low_memory=False.\n",
      "  data = pd.read_csv(\"full_dataset_normalized_2.csv\", encoding='utf-8', sep=',')\n"
     ]
    }
   ],
   "source": [
    "import pandas as pd\n",
    "#importation du dataset\n",
    "data = pd.read_csv(\"full_dataset_normalized_2.csv\", encoding='utf-8', sep=',')"
   ]
  },
  {
   "cell_type": "code",
   "execution_count": 3,
   "id": "189f1e14-4c11-449f-aedf-bedf1fc70907",
   "metadata": {
    "ExecuteTime": {
     "end_time": "2024-02-20T10:55:16.778779500Z",
     "start_time": "2024-02-20T10:55:16.670412200Z"
    }
   },
   "outputs": [],
   "source": [
    "# On se concentre sur l'année 2012, et on exclue les valeurs France_Métro\n",
    "\n",
    "data_2012 = data[data['annee']==2012]\n",
    "\n",
    "data_2012 = data_2012[~(data_2012['code_dep'] == 'France_Métro')]\n",
    "\n",
    "# Problème avec l'espace marquant le millier pour la colonne effectifs de police, mal converti par pandas d'où la nécessité de cet ajustement :\n",
    "data_2012['effectif_total_police_national'] = data_2012['effectif_total_police_national'].replace('\\xa0', '').astype(int)\n",
    "\n",
    "#data_2012['effectif_total_police_national'].iloc[60]\n",
    "\n",
    "# code_dep et Date sont en Object, on les convertit pour bien avoir le même type pour chaque colonne : str pour code_dep, date type pour Date\n",
    "\n",
    "data_2012['code_dep'] = data_2012['code_dep'].astype(str)\n",
    "data_2012['Date'] = pd.to_datetime(data_2012['Date'])"
   ]
  },
  {
   "cell_type": "code",
   "execution_count": 4,
   "id": "a3bc7e68-a79e-495a-a26e-d2223a43fe71",
   "metadata": {
    "ExecuteTime": {
     "end_time": "2024-02-20T10:55:17.770272200Z",
     "start_time": "2024-02-20T10:55:17.682045800Z"
    }
   },
   "outputs": [
    {
     "data": {
      "text/plain": "Index(['Date', 'code_dep', 'Homicides', 'Vols',\n       'Cambriolages à domicile ou violaiton de domicile',\n       'Crimes ou délits sexuelles', 'Infractions liées aux stupéfiants',\n       'Dégradations ou destructions de biens volontaires', 'Violences',\n       'Falsifications et contrefaçons', 'Délits Économiques et Financiers',\n       'Irégularités de Main-d'oeuvre', 'annee', 'Population', 'Chomage',\n       'Taux de pauvreté-moins de 30', 'Taux de pauvreté-30 à 39 ans',\n       'Taux de pauvreté-40 à 49 ans', 'Taux de pauvreté-50 à 59 ans',\n       'Taux de pauvreté-60 à 74 ans', 'Taux de pauvreté-75 ans ou plus',\n       'Median_salaire', 'Taux de pauvreté-Ensemble', 'Bac_g_réussite_%',\n       'Bac_t_réussite_%', 'Bac_p_réussite_%', 'Bac_g_%', 'Bac_t_%', 'Bac_p_%',\n       'non_peu_diplômés_non_scolarisée_<15ans', 'Superficie\\r\\n(km2)',\n       'effectif_total_police_national', 'Homicides_per_population',\n       'Vols_per_population',\n       'Cambriolages à domicile ou violaiton de domicile_per_population',\n       'Crimes ou délits sexuelles_per_population',\n       'Infractions liées aux stupéfiants_per_population',\n       'Dégradations ou destructions de biens volontaires_per_population',\n       'Violences_per_population',\n       'Falsifications et contrefaçons_per_population',\n       'Délits Économiques et Financiers_per_population',\n       'Irégularités de Main-d'oeuvre_per_population',\n       'effectif_total_police_national_per_population',\n       'Chomage_per_population', 'density'],\n      dtype='object')"
     },
     "execution_count": 4,
     "metadata": {},
     "output_type": "execute_result"
    }
   ],
   "source": [
    "data_2012.columns"
   ]
  },
  {
   "cell_type": "code",
   "execution_count": 5,
   "id": "d35b9b98-1e02-4d40-9cf9-d300cca5ad4c",
   "metadata": {
    "ExecuteTime": {
     "end_time": "2024-02-20T10:55:19.842393800Z",
     "start_time": "2024-02-20T10:55:19.799846600Z"
    }
   },
   "outputs": [],
   "source": [
    "df1 = data_2012[['Date', 'code_dep', 'Vols_per_population', 'effectif_total_police_national_per_population']].copy()"
   ]
  },
  {
   "cell_type": "code",
   "execution_count": 6,
   "id": "af44038d-7a9d-4a64-946d-e3700f149017",
   "metadata": {
    "ExecuteTime": {
     "end_time": "2024-02-20T10:55:22.687159800Z",
     "start_time": "2024-02-20T10:55:21.752297700Z"
    }
   },
   "outputs": [],
   "source": [
    "#df1.head()"
   ]
  },
  {
   "cell_type": "code",
   "execution_count": 7,
   "id": "16767462-dab2-48d1-8e7b-f71251dd4056",
   "metadata": {
    "ExecuteTime": {
     "end_time": "2024-02-20T10:55:24.461722600Z",
     "start_time": "2024-02-20T10:55:22.701913100Z"
    }
   },
   "outputs": [],
   "source": [
    "# Grouper par 'code_dep', puis calculer la moyenne annuelle pour les deux colonnes \"vols_per_population\" et effectifs policiers par population\n",
    "df2 = df1.groupby('code_dep').mean().copy()\n",
    "\n",
    "# Réinitialiser l'index si vous voulez que 'code_dep' redevienne une colonne\n",
    "df2 = df2.reset_index()\n",
    "\n",
    "df2.drop('Date', axis=1, inplace=True)"
   ]
  },
  {
   "cell_type": "code",
   "execution_count": 8,
   "id": "baa5f52f-6a4b-4124-8350-b983701454df",
   "metadata": {
    "scrolled": true,
    "ExecuteTime": {
     "end_time": "2024-02-20T10:55:24.773197700Z",
     "start_time": "2024-02-20T10:55:24.452359400Z"
    }
   },
   "outputs": [],
   "source": [
    "#test\n",
    "#df2.loc[df2['code_dep'] == '17'] # nota : bien penser à mettre les guillemets car de type str"
   ]
  },
  {
   "cell_type": "code",
   "execution_count": 9,
   "id": "f12d41a3-6dea-4727-b895-ec795bbfdc4c",
   "metadata": {
    "ExecuteTime": {
     "end_time": "2024-02-20T10:55:25.369560600Z",
     "start_time": "2024-02-20T10:55:24.472243600Z"
    }
   },
   "outputs": [],
   "source": [
    "correlation = df2['Vols_per_population'].corr(df2['effectif_total_police_national_per_population'])"
   ]
  },
  {
   "cell_type": "code",
   "execution_count": 10,
   "id": "0a075f81-828c-4823-97f3-10390c017601",
   "metadata": {
    "ExecuteTime": {
     "end_time": "2024-02-20T10:55:25.770063200Z",
     "start_time": "2024-02-20T10:55:25.672169500Z"
    }
   },
   "outputs": [
    {
     "data": {
      "text/plain": "0.7373749231576757"
     },
     "execution_count": 10,
     "metadata": {},
     "output_type": "execute_result"
    }
   ],
   "source": [
    "correlation"
   ]
  },
  {
   "cell_type": "code",
   "execution_count": 11,
   "id": "2fc8e0e6-af89-40c1-a823-79682a0fb38d",
   "metadata": {
    "ExecuteTime": {
     "end_time": "2024-02-20T10:55:27.077708200Z",
     "start_time": "2024-02-20T10:55:26.878918100Z"
    }
   },
   "outputs": [
    {
     "name": "stdout",
     "output_type": "stream",
     "text": [
      "                                                   Corrélation avec effectif_total_police_national_per_population\n",
      "Homicides_per_population                                                                     0.343389            \n",
      "Vols_per_population                                                                          0.737375            \n",
      "Cambriolages à domicile ou violaiton de domicil...                                           0.351741            \n",
      "Crimes ou délits sexuelles_per_population                                                    0.598007            \n",
      "Infractions liées aux stupéfiants_per_population                                             0.588526            \n",
      "Dégradations ou destructions de biens volontair...                                           0.534849            \n",
      "Violences_per_population                                                                     0.507529            \n",
      "Falsifications et contrefaçons_per_population                                                0.626186            \n",
      "Délits Économiques et Financiers_per_population                                              0.477564            \n",
      "Irégularités de Main-d'oeuvre_per_population                                                 0.323498            \n",
      "Chomage_per_population                                                                       0.399413            \n",
      "Taux de pauvreté-Ensemble                                                                    0.197816            \n",
      "Median_salaire                                                                               0.515169            \n",
      "Taux de pauvreté-moins de 30                                                                -0.022457            \n",
      "Taux de pauvreté-30 à 39 ans                                                                 0.089008            \n"
     ]
    }
   ],
   "source": [
    "# Corrélation entre effectifs de police et différents taux de délits/crimes ainsi que chômage, salaire médian, plusieurs catégories de pauvreté\n",
    "\n",
    "categories = [ 'Homicides_per_population',\n",
    "       'Vols_per_population',\n",
    "       'Cambriolages à domicile ou violaiton de domicile_per_population',\n",
    "       'Crimes ou délits sexuelles_per_population',\n",
    "       'Infractions liées aux stupéfiants_per_population',\n",
    "       'Dégradations ou destructions de biens volontaires_per_population',\n",
    "       'Violences_per_population',\n",
    "       'Falsifications et contrefaçons_per_population',\n",
    "       'Délits Économiques et Financiers_per_population',\n",
    "       \"Irégularités de Main-d'oeuvre_per_population\",\n",
    "       'Chomage_per_population',\n",
    "        'Taux de pauvreté-Ensemble',\n",
    "        'Median_salaire',\n",
    "        'Taux de pauvreté-moins de 30',\n",
    "        'Taux de pauvreté-30 à 39 ans'\n",
    "]\n",
    "\n",
    "# Préparation du DataFrame pour le calcul de corrélation\n",
    "df_correlation = pd.DataFrame(index=categories, columns=['Corrélation avec effectif_total_police_national_per_population'])\n",
    "\n",
    "for categorie in categories:\n",
    "    # Calculer la corrélation pour chaque catégorie\n",
    "    df = data_2012[['Date', 'code_dep', categorie, 'effectif_total_police_national_per_population']].copy()\n",
    "    df = df.groupby('code_dep').mean().copy()\n",
    "    # Réinitialiser l'index si vous voulez que 'code_dep' redevienne une colonne\n",
    "    df = df.reset_index() \n",
    "    df.drop('Date', axis=1, inplace=True)\n",
    "    \n",
    "    correlation = df[categorie].corr(df['effectif_total_police_national_per_population'])\n",
    "    df_correlation.loc[categorie, 'Corrélation avec effectif_total_police_national_per_population'] = correlation\n",
    "\n",
    "# Afficher les résultats\n",
    "print(df_correlation)"
   ]
  },
  {
   "cell_type": "code",
   "outputs": [
    {
     "name": "stdout",
     "output_type": "stream",
     "text": [
      "                                Corrélation avec Homicides_per_population\n",
      "Chomage_per_population                                           0.334933\n",
      "Taux de pauvreté-Ensemble                                        0.308455\n",
      "Median_salaire                                                   0.153667\n",
      "Taux de pauvreté-moins de 30                                     0.168971\n",
      "Taux de pauvreté-30 à 39 ans                                      0.24443\n",
      "Taux de pauvreté-40 à 49 ans                                     0.257833\n",
      "Taux de pauvreté-50 à 59 ans                                     0.329106\n",
      "Taux de pauvreté-60 à 74 ans                                     0.434931\n",
      "Taux de pauvreté-75 ans ou plus                                  0.064825\n",
      "density                                                          0.110168\n",
      "                                Corrélation avec Vols_per_population\n",
      "Chomage_per_population                                      0.309495\n",
      "Taux de pauvreté-Ensemble                                   0.224574\n",
      "Median_salaire                                              0.402809\n",
      "Taux de pauvreté-moins de 30                                0.000743\n",
      "Taux de pauvreté-30 à 39 ans                                0.146812\n",
      "Taux de pauvreté-40 à 49 ans                                0.189355\n",
      "Taux de pauvreté-50 à 59 ans                                0.294887\n",
      "Taux de pauvreté-60 à 74 ans                                0.426777\n",
      "Taux de pauvreté-75 ans ou plus                            -0.216166\n",
      "density                                                     0.557248\n",
      "                                Corrélation avec Cambriolages à domicile ou violaiton de domicile_per_population\n",
      "Chomage_per_population                                                    0.313673                              \n",
      "Taux de pauvreté-Ensemble                                                 0.282694                              \n",
      "Median_salaire                                                              0.1421                              \n",
      "Taux de pauvreté-moins de 30                                              0.176464                              \n",
      "Taux de pauvreté-30 à 39 ans                                              0.289933                              \n",
      "Taux de pauvreté-40 à 49 ans                                              0.258425                              \n",
      "Taux de pauvreté-50 à 59 ans                                              0.300846                              \n",
      "Taux de pauvreté-60 à 74 ans                                              0.381264                              \n",
      "Taux de pauvreté-75 ans ou plus                                          -0.170422                              \n",
      "density                                                                    0.09331                              \n",
      "                                Corrélation avec Crimes ou délits sexuelles_per_population\n",
      "Chomage_per_population                                                    0.575934        \n",
      "Taux de pauvreté-Ensemble                                                 0.118205        \n",
      "Median_salaire                                                            0.246223        \n",
      "Taux de pauvreté-moins de 30                                              0.023696        \n",
      "Taux de pauvreté-30 à 39 ans                                              0.058085        \n",
      "Taux de pauvreté-40 à 49 ans                                              0.126747        \n",
      "Taux de pauvreté-50 à 59 ans                                              0.158025        \n",
      "Taux de pauvreté-60 à 74 ans                                              0.156457        \n",
      "Taux de pauvreté-75 ans ou plus                                          -0.239963        \n",
      "density                                                                   0.561001        \n",
      "                                Corrélation avec Infractions liées aux stupéfiants_per_population\n",
      "Chomage_per_population                                                    0.148824               \n",
      "Taux de pauvreté-Ensemble                                                 0.193963               \n",
      "Median_salaire                                                            0.379602               \n",
      "Taux de pauvreté-moins de 30                                              -0.05726               \n",
      "Taux de pauvreté-30 à 39 ans                                              0.141147               \n",
      "Taux de pauvreté-40 à 49 ans                                              0.180462               \n",
      "Taux de pauvreté-50 à 59 ans                                              0.237227               \n",
      "Taux de pauvreté-60 à 74 ans                                               0.35365               \n",
      "Taux de pauvreté-75 ans ou plus                                          -0.277538               \n",
      "density                                                                   0.472046               \n",
      "                                Corrélation avec Dégradations ou destructions de biens volontaires_per_population\n",
      "Chomage_per_population                                                    0.007054                               \n",
      "Taux de pauvreté-Ensemble                                                 0.173659                               \n",
      "Median_salaire                                                            0.269783                               \n",
      "Taux de pauvreté-moins de 30                                              0.059011                               \n",
      "Taux de pauvreté-30 à 39 ans                                              0.141191                               \n",
      "Taux de pauvreté-40 à 49 ans                                              0.157462                               \n",
      "Taux de pauvreté-50 à 59 ans                                              0.136652                               \n",
      "Taux de pauvreté-60 à 74 ans                                               0.28206                               \n",
      "Taux de pauvreté-75 ans ou plus                                          -0.386267                               \n",
      "density                                                                   0.341584                               \n",
      "                                Corrélation avec Violences_per_population\n",
      "Chomage_per_population                                           0.390058\n",
      "Taux de pauvreté-Ensemble                                        0.371416\n",
      "Median_salaire                                                     0.1472\n",
      "Taux de pauvreté-moins de 30                                      0.24972\n",
      "Taux de pauvreté-30 à 39 ans                                     0.377474\n",
      "Taux de pauvreté-40 à 49 ans                                     0.365667\n",
      "Taux de pauvreté-50 à 59 ans                                     0.332471\n",
      "Taux de pauvreté-60 à 74 ans                                     0.417419\n",
      "Taux de pauvreté-75 ans ou plus                                 -0.357614\n",
      "density                                                          0.280613\n",
      "                                Corrélation avec Falsifications et contrefaçons_per_population\n",
      "Chomage_per_population                                                    0.057049            \n",
      "Taux de pauvreté-Ensemble                                                 0.167813            \n",
      "Median_salaire                                                            0.431817            \n",
      "Taux de pauvreté-moins de 30                                             -0.047341            \n",
      "Taux de pauvreté-30 à 39 ans                                              0.101082            \n",
      "Taux de pauvreté-40 à 49 ans                                              0.119011            \n",
      "Taux de pauvreté-50 à 59 ans                                              0.225187            \n",
      "Taux de pauvreté-60 à 74 ans                                               0.39742            \n",
      "Taux de pauvreté-75 ans ou plus                                          -0.157715            \n",
      "density                                                                   0.518686            \n",
      "                                Corrélation avec Délits Économiques et Financiers_per_population\n",
      "Chomage_per_population                                                    0.249399              \n",
      "Taux de pauvreté-Ensemble                                                 0.119454              \n",
      "Median_salaire                                                             0.46679              \n",
      "Taux de pauvreté-moins de 30                                             -0.100866              \n",
      "Taux de pauvreté-30 à 39 ans                                              0.004505              \n",
      "Taux de pauvreté-40 à 49 ans                                              0.090265              \n",
      "Taux de pauvreté-50 à 59 ans                                              0.221397              \n",
      "Taux de pauvreté-60 à 74 ans                                              0.321522              \n",
      "Taux de pauvreté-75 ans ou plus                                          -0.057827              \n",
      "density                                                                    0.34581              \n",
      "                                Corrélation avec Irégularités de Main-d'oeuvre_per_population\n",
      "Chomage_per_population                                                     0.18654           \n",
      "Taux de pauvreté-Ensemble                                                 0.370102           \n",
      "Median_salaire                                                           -0.019371           \n",
      "Taux de pauvreté-moins de 30                                               0.13324           \n",
      "Taux de pauvreté-30 à 39 ans                                              0.272717           \n",
      "Taux de pauvreté-40 à 49 ans                                              0.288207           \n",
      "Taux de pauvreté-50 à 59 ans                                              0.404653           \n",
      "Taux de pauvreté-60 à 74 ans                                              0.547647           \n",
      "Taux de pauvreté-75 ans ou plus                                           0.415301           \n",
      "density                                                                   0.048209           \n"
     ]
    }
   ],
   "source": [
    "# Corrélation entre plusieurs catégories clés de délits/crimes et différentes variables socio-économiques\n",
    "\n",
    "categories_infractions = ['Homicides_per_population',\n",
    "       'Vols_per_population',\n",
    "       'Cambriolages à domicile ou violaiton de domicile_per_population',\n",
    "       'Crimes ou délits sexuelles_per_population',\n",
    "       'Infractions liées aux stupéfiants_per_population',\n",
    "       'Dégradations ou destructions de biens volontaires_per_population',\n",
    "       'Violences_per_population',\n",
    "       'Falsifications et contrefaçons_per_population',\n",
    "       'Délits Économiques et Financiers_per_population',\n",
    "       \"Irégularités de Main-d'oeuvre_per_population\"]\n",
    "\n",
    "\n",
    "categories_socio_ecos = ['Chomage_per_population',\n",
    "        'Taux de pauvreté-Ensemble',\n",
    "        'Median_salaire',\n",
    "        'Taux de pauvreté-moins de 30',\n",
    "        'Taux de pauvreté-30 à 39 ans',\n",
    "        'Taux de pauvreté-40 à 49 ans', \n",
    "        'Taux de pauvreté-50 à 59 ans',\n",
    "        'Taux de pauvreté-60 à 74 ans',\n",
    "        'Taux de pauvreté-75 ans ou plus',\n",
    "         'density']\n",
    "\n",
    "for cat_infra in categories_infractions :\n",
    "\n",
    "    # Préparation du DataFrame pour le calcul de corrélation\n",
    "    df_correlation2 = pd.DataFrame(index=categories_socio_ecos, columns=['Corrélation avec '+cat_infra])\n",
    "    \n",
    "    for categorie in categories_socio_ecos:\n",
    "        # Calculer la corrélation pour chaque catégorie\n",
    "        df = data_2012[['Date', 'code_dep', categorie, cat_infra]].copy()\n",
    "        df = df.groupby('code_dep').mean().copy()\n",
    "        # Réinitialiser l'index si vous voulez que 'code_dep' redevienne une colonne\n",
    "        df = df.reset_index() \n",
    "        df.drop('Date', axis=1, inplace=True)\n",
    "        \n",
    "        correlation = df[categorie].corr(df[cat_infra])\n",
    "        df_correlation2.loc[categorie, 'Corrélation avec '+cat_infra] = correlation\n",
    "    \n",
    "    # Afficher les résultats\n",
    "    print(df_correlation2)\n"
   ],
   "metadata": {
    "collapsed": false,
    "ExecuteTime": {
     "end_time": "2024-02-20T11:11:46.802587800Z",
     "start_time": "2024-02-20T11:11:45.927789400Z"
    }
   },
   "id": "54a66681dfd93a92",
   "execution_count": 17
  },
  {
   "cell_type": "code",
   "execution_count": null,
   "id": "6540fd27-51ef-4410-93d8-2fab9ad78280",
   "metadata": {},
   "outputs": [],
   "source": [
    "import matplotlib.pyplot as plt\n",
    "import seaborn as sns\n",
    "\n",
    "# Faire heatmap corrélation entre les deux listes catégories + effectifs de police\n",
    "\n",
    "#Calcul du taux de corrélation entre ces deux taux \n",
    ".corr(method=\"pearson\")\n",
    "\n",
    "# Visualize the correlation matrix\n",
    "plt.figure(figsize=(12, 8))\n",
    "sns.heatmap(, annot=True, cmap='coolwarm')\n",
    "plt.title('Matrice de corrélation entre dégradations et effectifs de police ')\n",
    "plt.show()"
   ]
  }
 ],
 "metadata": {
  "kernelspec": {
   "display_name": "Python 3 (ipykernel)",
   "language": "python",
   "name": "python3"
  },
  "language_info": {
   "codemirror_mode": {
    "name": "ipython",
    "version": 3
   },
   "file_extension": ".py",
   "mimetype": "text/x-python",
   "name": "python",
   "nbconvert_exporter": "python",
   "pygments_lexer": "ipython3",
   "version": "3.11.7"
  }
 },
 "nbformat": 4,
 "nbformat_minor": 5
}
